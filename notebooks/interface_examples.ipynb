{
 "cells": [
  {
   "cell_type": "code",
   "execution_count": 1,
   "metadata": {},
   "outputs": [
    {
     "name": "stderr",
     "output_type": "stream",
     "text": [
      "/Users/masaki/Documents/GitHub/gradio-tutorial/.venv/lib/python3.10/site-packages/tqdm/auto.py:21: TqdmWarning: IProgress not found. Please update jupyter and ipywidgets. See https://ipywidgets.readthedocs.io/en/stable/user_install.html\n",
      "  from .autonotebook import tqdm as notebook_tqdm\n"
     ]
    },
    {
     "name": "stdout",
     "output_type": "stream",
     "text": [
      "Running on local URL:  http://127.0.0.1:7860\n",
      "\n",
      "To create a public link, set `share=True` in `launch()`.\n"
     ]
    },
    {
     "data": {
      "text/html": [
       "<div><iframe src=\"http://127.0.0.1:7860/\" width=\"100%\" height=\"500\" allow=\"autoplay; camera; microphone; clipboard-read; clipboard-write;\" frameborder=\"0\" allowfullscreen></iframe></div>"
      ],
      "text/plain": [
       "<IPython.core.display.HTML object>"
      ]
     },
     "metadata": {},
     "output_type": "display_data"
    },
    {
     "data": {
      "text/plain": []
     },
     "execution_count": 1,
     "metadata": {},
     "output_type": "execute_result"
    }
   ],
   "source": [
    "import gradio as gr\n",
    "\n",
    "def greet(name: str) -> str:\n",
    "    return \"Hello \" + name + \"!\"\n",
    "\n",
    "demo = gr.Interface(\n",
    "    fn = greet,\n",
    "    inputs = \"text\",\n",
    "    outputs = \"text\"\n",
    ")\n",
    "demo.launch()"
   ]
  },
  {
   "cell_type": "code",
   "execution_count": 2,
   "metadata": {},
   "outputs": [
    {
     "name": "stdout",
     "output_type": "stream",
     "text": [
      "Running on local URL:  http://127.0.0.1:7861\n",
      "\n",
      "To create a public link, set `share=True` in `launch()`.\n"
     ]
    },
    {
     "data": {
      "text/html": [
       "<div><iframe src=\"http://127.0.0.1:7861/\" width=\"100%\" height=\"500\" allow=\"autoplay; camera; microphone; clipboard-read; clipboard-write;\" frameborder=\"0\" allowfullscreen></iframe></div>"
      ],
      "text/plain": [
       "<IPython.core.display.HTML object>"
      ]
     },
     "metadata": {},
     "output_type": "display_data"
    },
    {
     "data": {
      "text/plain": []
     },
     "execution_count": 2,
     "metadata": {},
     "output_type": "execute_result"
    }
   ],
   "source": [
    "def greet(name1: str, name2: str) -> str:\n",
    "    ret1 = \"Hello \" + name1 + \"and\" + name2 + \"!\"\n",
    "    ret2 = {\"name1\": name1, \"name2\": name2}\n",
    "    return ret1, ret2\n",
    "\n",
    "demo = gr.Interface(\n",
    "    fn = greet,\n",
    "    inputs = [\"text\", \"text\"],\n",
    "    outputs = [\"text\", \"json\"]\n",
    ")\n",
    "demo.launch()"
   ]
  },
  {
   "cell_type": "code",
   "execution_count": 3,
   "metadata": {},
   "outputs": [
    {
     "name": "stdout",
     "output_type": "stream",
     "text": [
      "Running on local URL:  http://127.0.0.1:7862\n",
      "\n",
      "To create a public link, set `share=True` in `launch()`.\n"
     ]
    },
    {
     "data": {
      "text/html": [
       "<div><iframe src=\"http://127.0.0.1:7862/\" width=\"100%\" height=\"500\" allow=\"autoplay; camera; microphone; clipboard-read; clipboard-write;\" frameborder=\"0\" allowfullscreen></iframe></div>"
      ],
      "text/plain": [
       "<IPython.core.display.HTML object>"
      ]
     },
     "metadata": {},
     "output_type": "display_data"
    },
    {
     "data": {
      "text/plain": []
     },
     "execution_count": 3,
     "metadata": {},
     "output_type": "execute_result"
    }
   ],
   "source": [
    "# 引数のtypeを見る関数\n",
    "def inspect_type(*args):\n",
    "    ret = []\n",
    "    for i, arg in enumerate(args, start=1):\n",
    "        ret.append(f\"{i}番目の引数の型は\"+str(type(arg)))\n",
    "    return \"\\n\".join(ret)\n",
    "\n",
    "demo = gr.Interface(\n",
    "    fn = inspect_type,\n",
    "    inputs = [\"text\", \"checkbox\", \"slider\", \"image\", \"file\"],\n",
    "    outputs = \"text\"\n",
    ")\n",
    "demo.launch()"
   ]
  },
  {
   "cell_type": "code",
   "execution_count": 4,
   "metadata": {},
   "outputs": [
    {
     "name": "stdout",
     "output_type": "stream",
     "text": [
      "Caching examples at: '/Users/masaki/Documents/GitHub/gradio-tutorial/notebooks/gradio_cached_examples/62'\n",
      "Running on local URL:  http://127.0.0.1:7863\n",
      "\n",
      "To create a public link, set `share=True` in `launch()`.\n"
     ]
    },
    {
     "data": {
      "text/html": [
       "<div><iframe src=\"http://127.0.0.1:7863/\" width=\"100%\" height=\"500\" allow=\"autoplay; camera; microphone; clipboard-read; clipboard-write;\" frameborder=\"0\" allowfullscreen></iframe></div>"
      ],
      "text/plain": [
       "<IPython.core.display.HTML object>"
      ]
     },
     "metadata": {},
     "output_type": "display_data"
    },
    {
     "data": {
      "text/plain": []
     },
     "execution_count": 4,
     "metadata": {},
     "output_type": "execute_result"
    }
   ],
   "source": [
    "# examples\n",
    "\n",
    "def greet(name: str) -> str:\n",
    "    return \"Hello \" + name + \"!\"\n",
    "\n",
    "demo = gr.Interface(\n",
    "    fn = greet,\n",
    "    inputs = \"text\",\n",
    "    outputs = \"text\",\n",
    "    examples = [\"ずんだもん\", \"つくよみちゃん\"],\n",
    "    cache_examples=True\n",
    ")\n",
    "demo.launch()\n",
    "\n"
   ]
  },
  {
   "cell_type": "code",
   "execution_count": 5,
   "metadata": {},
   "outputs": [
    {
     "name": "stdout",
     "output_type": "stream",
     "text": [
      "Caching examples at: '/Users/masaki/Documents/GitHub/gradio-tutorial/notebooks/gradio_cached_examples/81'\n",
      "Running on local URL:  http://127.0.0.1:7864\n",
      "\n",
      "To create a public link, set `share=True` in `launch()`.\n"
     ]
    },
    {
     "data": {
      "text/html": [
       "<div><iframe src=\"http://127.0.0.1:7864/\" width=\"100%\" height=\"500\" allow=\"autoplay; camera; microphone; clipboard-read; clipboard-write;\" frameborder=\"0\" allowfullscreen></iframe></div>"
      ],
      "text/plain": [
       "<IPython.core.display.HTML object>"
      ]
     },
     "metadata": {},
     "output_type": "display_data"
    },
    {
     "data": {
      "text/plain": []
     },
     "execution_count": 5,
     "metadata": {},
     "output_type": "execute_result"
    }
   ],
   "source": [
    "\n",
    "title : str = \"ユーザーインターフェースによる名前の挨拶\"\n",
    "description : str = \"このデモンストレーションは、Gradio（ユーザーインターフェースのライブラリ）を使用して名前を入力として受け取り、その名前に挨拶する機能を提供します。ユーザーはテキストフィールドに名前を入力します。出力は挨拶の文字列です。\"\n",
    "article : str='''このデモンストレーションは、ユーザーインターフェースを作成するためのPythonのライブラリであるGradioを使用しています。コードは、greetという関数を定義し、この関数は2つの文字列（名前）を入力として受け取り、挨拶として結合した文字列と入力名前の辞書を返します。Gradioインターフェースは、この関数を基に設計されています。\n",
    "\n",
    "入力は2つのテキストフィールドで、各フィールドは1つの名前を受け入れます。出力は2つあり、一つは挨拶の文字列（テキスト形式）、もう一つは入力名前の辞書（JSON形式）です。これらの出力は、ユーザーが入力した名前に基づいて生成されます。\n",
    "\n",
    "このインターフェースの例として、\"ずんだもん\"と\"つくよみちゃん\"または\"ずんだもん\"と\"四国めたん\"を入力として使用します。各例で、ユーザーが名前を入力すると、インターフェースは挨拶と名前の辞書をそれぞれテキストとJSON形式で生成し、表示します。\n",
    "\n",
    "このインターフェースは、異なる名前を受け入れ、それに対して適切な挨拶を生成する能力を持つという点で一貫性を保つために、Gradioのcache_examples=Trueを使用しています。これにより、インターフェースは同じ入力に対して同じ出力を返すことが保証されます。\n",
    "'''\n",
    "\n",
    "def greet(name1: str, name2: str) -> str:\n",
    "    ret1 = \"Hello \" + name1 + \"and\" + name2 + \"!\"\n",
    "    ret2 = {\"name1\": name1, \"name2\": name2}\n",
    "    return ret1, ret2\n",
    "\n",
    "demo = gr.Interface(\n",
    "    fn = greet,\n",
    "    inputs = [\"text\", \"text\"],\n",
    "    outputs = [\"text\", \"json\"],\n",
    "    examples = [[\"ずんだもん\", \"つくよみちゃん\"], \n",
    "                [\"ずんだもん\", \"四国めたん\"]],\n",
    "    cache_examples=True,\n",
    "    title=title,\n",
    "    description=description,\n",
    "    article=article\n",
    "\n",
    ")\n",
    "demo.launch()"
   ]
  },
  {
   "cell_type": "code",
   "execution_count": 6,
   "metadata": {},
   "outputs": [
    {
     "name": "stdout",
     "output_type": "stream",
     "text": [
      "Running on local URL:  http://127.0.0.1:7865\n",
      "\n",
      "To create a public link, set `share=True` in `launch()`.\n"
     ]
    },
    {
     "data": {
      "text/html": [
       "<div><iframe src=\"http://127.0.0.1:7865/\" width=\"100%\" height=\"500\" allow=\"autoplay; camera; microphone; clipboard-read; clipboard-write;\" frameborder=\"0\" allowfullscreen></iframe></div>"
      ],
      "text/plain": [
       "<IPython.core.display.HTML object>"
      ]
     },
     "metadata": {},
     "output_type": "display_data"
    },
    {
     "data": {
      "text/plain": []
     },
     "execution_count": 6,
     "metadata": {},
     "output_type": "execute_result"
    }
   ],
   "source": [
    "def greet(name1: str, name2: str) -> str:\n",
    "    ret1 = \"Hello \" + name1 + \"and\" + name2 + \"!\"\n",
    "    ret2 = {\"name1\": name1, \"name2\": name2}\n",
    "    return ret1, ret2\n",
    "\n",
    "demo = gr.Interface(\n",
    "    fn = greet,\n",
    "    inputs = [\"text\", \"text\"],\n",
    "    outputs = [\"text\", \"json\"],\n",
    "    theme='gradio/soft'\n",
    ")\n",
    "demo.launch()"
   ]
  },
  {
   "cell_type": "code",
   "execution_count": 7,
   "metadata": {},
   "outputs": [
    {
     "name": "stdout",
     "output_type": "stream",
     "text": [
      "Running on local URL:  http://127.0.0.1:7866\n",
      "\n",
      "To create a public link, set `share=True` in `launch()`.\n"
     ]
    },
    {
     "data": {
      "text/html": [
       "<div><iframe src=\"http://127.0.0.1:7866/\" width=\"100%\" height=\"500\" allow=\"autoplay; camera; microphone; clipboard-read; clipboard-write;\" frameborder=\"0\" allowfullscreen></iframe></div>"
      ],
      "text/plain": [
       "<IPython.core.display.HTML object>"
      ]
     },
     "metadata": {},
     "output_type": "display_data"
    },
    {
     "data": {
      "text/plain": []
     },
     "execution_count": 7,
     "metadata": {},
     "output_type": "execute_result"
    }
   ],
   "source": [
    "def greet(name1: str, name2: str) -> str:\n",
    "    ret1 = \"Hello \" + name1 + \"and\" + name2 + \"!\"\n",
    "    ret2 = {\"name1\": name1, \"name2\": name2}\n",
    "    return ret1, ret2\n",
    "\n",
    "demo = gr.Interface(\n",
    "    fn = greet,\n",
    "    inputs = [\"text\", \"text\"],\n",
    "    outputs = [\"text\", \"json\"],\n",
    "    theme='gradio/soft'\n",
    ")\n",
    "demo.launch()"
   ]
  },
  {
   "cell_type": "code",
   "execution_count": 8,
   "metadata": {},
   "outputs": [
    {
     "name": "stdout",
     "output_type": "stream",
     "text": [
      "Running on local URL:  http://127.0.0.1:7867\n",
      "\n",
      "To create a public link, set `share=True` in `launch()`.\n"
     ]
    },
    {
     "data": {
      "text/html": [
       "<div><iframe src=\"http://127.0.0.1:7867/\" width=\"100%\" height=\"500\" allow=\"autoplay; camera; microphone; clipboard-read; clipboard-write;\" frameborder=\"0\" allowfullscreen></iframe></div>"
      ],
      "text/plain": [
       "<IPython.core.display.HTML object>"
      ]
     },
     "metadata": {},
     "output_type": "display_data"
    },
    {
     "data": {
      "text/plain": []
     },
     "execution_count": 8,
     "metadata": {},
     "output_type": "execute_result"
    }
   ],
   "source": [
    "def info(arg: str) -> str:\n",
    "    ret2 = {\"type\": str(type(arg)), \"filepath\": arg}\n",
    "    return arg, ret2\n",
    "\n",
    "demo = gr.Interface(\n",
    "    fn = info,\n",
    "    inputs = gr.Image(type=\"filepath\"),\n",
    "    outputs = [gr.Image(), \"json\"],\n",
    ")\n",
    "demo.launch()"
   ]
  },
  {
   "cell_type": "code",
   "execution_count": 9,
   "metadata": {},
   "outputs": [
    {
     "name": "stdout",
     "output_type": "stream",
     "text": [
      "Running on local URL:  http://127.0.0.1:7868\n",
      "\n",
      "To create a public link, set `share=True` in `launch()`.\n"
     ]
    },
    {
     "data": {
      "text/html": [
       "<div><iframe src=\"http://127.0.0.1:7868/\" width=\"100%\" height=\"500\" allow=\"autoplay; camera; microphone; clipboard-read; clipboard-write;\" frameborder=\"0\" allowfullscreen></iframe></div>"
      ],
      "text/plain": [
       "<IPython.core.display.HTML object>"
      ]
     },
     "metadata": {},
     "output_type": "display_data"
    },
    {
     "data": {
      "text/plain": []
     },
     "execution_count": 9,
     "metadata": {},
     "output_type": "execute_result"
    }
   ],
   "source": [
    "import time\n",
    "from tqdm import tqdm\n",
    "\n",
    "def slowly_reverse(word, hoge=gr.Progress(track_tqdm=True)): # 元々あるtqdmごとトラッキングしてくれる\n",
    "    new_string = \"\"\n",
    "    for letter in tqdm(word, desc=\"Reversing\"):\n",
    "        time.sleep(0.01)\n",
    "        new_string = letter + new_string\n",
    "    return new_string\n",
    "\n",
    "demo = gr.Interface(\n",
    "    fn=slowly_reverse,\n",
    "    inputs=\"text\",\n",
    "    outputs=\"text\"\n",
    "    )\n",
    "demo.queue()  # tqdm\n",
    "demo.launch()"
   ]
  },
  {
   "cell_type": "code",
   "execution_count": 10,
   "metadata": {},
   "outputs": [
    {
     "name": "stdout",
     "output_type": "stream",
     "text": [
      "Running on local URL:  http://127.0.0.1:7869\n",
      "\n",
      "To create a public link, set `share=True` in `launch()`.\n"
     ]
    },
    {
     "data": {
      "text/html": [
       "<div><iframe src=\"http://127.0.0.1:7869/\" width=\"100%\" height=\"500\" allow=\"autoplay; camera; microphone; clipboard-read; clipboard-write;\" frameborder=\"0\" allowfullscreen></iframe></div>"
      ],
      "text/plain": [
       "<IPython.core.display.HTML object>"
      ]
     },
     "metadata": {},
     "output_type": "display_data"
    },
    {
     "data": {
      "text/plain": []
     },
     "execution_count": 10,
     "metadata": {},
     "output_type": "execute_result"
    }
   ],
   "source": [
    "from zipfile import ZipFile\n",
    "import os\n",
    "from PIL.Image import Image as PILImage\n",
    "from PIL import Image\n",
    "\n",
    "\n",
    "def convert_format(img: PILImage) -> str:\n",
    "    '''imgをpng, jpeg, webpで保存した後、\n",
    "    それらをzipファイルにして、zipファイルへのパスを返す関数'''\n",
    "    # 変数名の設定\n",
    "    tmp_dir = \"./tmp\" \n",
    "    img_filename= \"image\"\n",
    "    formats = ['png', 'jpeg', 'webp']\n",
    "    zip_file_name = \"./image_formats.zip\"\n",
    "\n",
    "    # 一時ディレクトリの設定\n",
    "    if not os.path.exists(tmp_dir):\n",
    "        os.makedirs(tmp_dir)\n",
    "\n",
    "    # 各形式で画像を保存する\n",
    "    for fmt in formats:\n",
    "        img.save(os.path.join(tmp_dir, f'{img_filename}.{fmt}'), fmt)\n",
    "    \n",
    "    # 画像を保存したディレクトリをzipファイルにする\n",
    "    with ZipFile(zip_file_name, 'w') as zipf:\n",
    "        for root, _, files in os.walk(tmp_dir):\n",
    "            for file in files:\n",
    "                zipf.write(os.path.join(root, file))\n",
    "\n",
    "    return zip_file_name\n",
    "\n",
    "demo = gr.Interface(\n",
    "    fn =  convert_format,\n",
    "    inputs = gr.Image(type=\"pil\"),\n",
    "    outputs = \"file\",\n",
    ")\n",
    "demo.queue()\n",
    "demo.launch()\n"
   ]
  },
  {
   "cell_type": "code",
   "execution_count": 11,
   "metadata": {},
   "outputs": [
    {
     "name": "stdout",
     "output_type": "stream",
     "text": [
      "Running on local URL:  http://127.0.0.1:7870\n",
      "\n",
      "To create a public link, set `share=True` in `launch()`.\n"
     ]
    },
    {
     "data": {
      "text/html": [
       "<div><iframe src=\"http://127.0.0.1:7870/\" width=\"100%\" height=\"500\" allow=\"autoplay; camera; microphone; clipboard-read; clipboard-write;\" frameborder=\"0\" allowfullscreen></iframe></div>"
      ],
      "text/plain": [
       "<IPython.core.display.HTML object>"
      ]
     },
     "metadata": {},
     "output_type": "display_data"
    },
    {
     "data": {
      "text/plain": []
     },
     "execution_count": 11,
     "metadata": {},
     "output_type": "execute_result"
    }
   ],
   "source": [
    "from zipfile import ZipFile\n",
    "import os\n",
    "from PIL.Image import Image as PILImage\n",
    "from PIL import Image\n",
    "\n",
    "# def convert_format(img: PILImage) -> str:\n",
    "def convert_format(img: PILImage) -> tuple[str, str]:\n",
    "    '''imgをpng, jpeg, webpで保存した後、\n",
    "    それらをzipファイルにして、zipファイルへのパスを返す関数'''\n",
    "    # 変数名の設定\n",
    "    tmp_dir = \"./tmp\" \n",
    "    img_filename= \"image\"\n",
    "    formats = ['png', 'jpeg', 'webp']\n",
    "    zip_file_name = \"./image_formats.zip\"\n",
    "    path_list= []  # 追加\n",
    "\n",
    "    # 一時ディレクトリの設定\n",
    "    if not os.path.exists(tmp_dir):\n",
    "        os.makedirs(tmp_dir)\n",
    "\n",
    "    # 各形式で画像を保存する\n",
    "    for fmt in formats:\n",
    "        path_list.append(os.path.join(tmp_dir, f'{img_filename}.{fmt}')) #追加\n",
    "        img.save(os.path.join(tmp_dir, f'{img_filename}.{fmt}'), fmt)\n",
    "    \n",
    "    # 画像を保存したディレクトリをzipファイルにする\n",
    "    with ZipFile(zip_file_name, 'w') as zipf:\n",
    "        for root, _, files in os.walk(tmp_dir):\n",
    "            for file in files:\n",
    "                zipf.write(os.path.join(root, file))\n",
    "\n",
    "    # return zip_file_name\n",
    "    return zip_file_name, path_list\n",
    "\n",
    "\n",
    "demo = gr.Interface(\n",
    "    fn =  convert_format,\n",
    "    inputs = gr.Image(type=\"pil\"),\n",
    "    # outputs = \"file\",\n",
    "    outputs = [\"file\", \"file\"],\n",
    ")\n",
    "demo.queue()\n",
    "demo.launch()\n"
   ]
  },
  {
   "cell_type": "code",
   "execution_count": 13,
   "metadata": {},
   "outputs": [
    {
     "name": "stdout",
     "output_type": "stream",
     "text": [
      "Running on local URL:  http://127.0.0.1:7872\n",
      "\n",
      "To create a public link, set `share=True` in `launch()`.\n"
     ]
    },
    {
     "data": {
      "text/html": [
       "<div><iframe src=\"http://127.0.0.1:7872/\" width=\"100%\" height=\"500\" allow=\"autoplay; camera; microphone; clipboard-read; clipboard-write;\" frameborder=\"0\" allowfullscreen></iframe></div>"
      ],
      "text/plain": [
       "<IPython.core.display.HTML object>"
      ]
     },
     "metadata": {},
     "output_type": "display_data"
    },
    {
     "data": {
      "text/plain": []
     },
     "execution_count": 13,
     "metadata": {},
     "output_type": "execute_result"
    }
   ],
   "source": [
    "import os\n",
    "from PIL.Image import Image as PILImage\n",
    "from PIL import Image\n",
    "\n",
    "def convert_format(img: PILImage) -> str:\n",
    "    '''imgをpng, jpeg, webpで保存した後、\n",
    "    それらをzipファイルにして、zipファイルへのパスを返す関数'''\n",
    "    # 変数名の設定\n",
    "    tmp_dir = \"./tmp\" \n",
    "    img_filename= \"image\"\n",
    "    formats = ['png', 'jpeg', 'webp']\n",
    "    path_list= [] \n",
    "\n",
    "    # 一時ディレクトリの設定\n",
    "    if not os.path.exists(tmp_dir):\n",
    "        os.makedirs(tmp_dir)\n",
    "\n",
    "    # 各形式で画像を保存する\n",
    "    for fmt in formats:\n",
    "        path_list.append(os.path.join(tmp_dir, f'{img_filename}.{fmt}')) #追加\n",
    "        img.save(os.path.join(tmp_dir, f'{img_filename}.{fmt}'), fmt)\n",
    "    \n",
    "    return path_list\n",
    "\n",
    "\n",
    "demo = gr.Interface(\n",
    "    fn =  convert_format,\n",
    "    inputs = gr.Image(type=\"pil\"),\n",
    "    outputs = \"file\",\n",
    ")\n",
    "demo.queue()\n",
    "demo.launch()\n"
   ]
  },
  {
   "cell_type": "code",
   "execution_count": 14,
   "metadata": {},
   "outputs": [
    {
     "name": "stdout",
     "output_type": "stream",
     "text": [
      "Running on local URL:  http://127.0.0.1:7873\n",
      "\n",
      "To create a public link, set `share=True` in `launch()`.\n"
     ]
    },
    {
     "data": {
      "text/plain": []
     },
     "execution_count": 14,
     "metadata": {},
     "output_type": "execute_result"
    }
   ],
   "source": [
    "def greet(name1: str, name2: str) -> str:\n",
    "    ret1 = \"Hello \" + name1 + \"and\" + name2 + \"!\"\n",
    "    ret2 = {\"name1\": name1, \"name2\": name2}\n",
    "    return ret1, ret2\n",
    "\n",
    "demo = gr.Interface(\n",
    "    fn = greet,\n",
    "    inputs = [\"text\", \"text\"],\n",
    "    outputs = [\"text\", \"json\"]\n",
    ")\n",
    "demo.launch(auth=(\"zundamon\", \"edamame\"))"
   ]
  },
  {
   "cell_type": "code",
   "execution_count": null,
   "metadata": {},
   "outputs": [],
   "source": []
  }
 ],
 "metadata": {
  "kernelspec": {
   "display_name": ".venv",
   "language": "python",
   "name": "python3"
  },
  "language_info": {
   "codemirror_mode": {
    "name": "ipython",
    "version": 3
   },
   "file_extension": ".py",
   "mimetype": "text/x-python",
   "name": "python",
   "nbconvert_exporter": "python",
   "pygments_lexer": "ipython3",
   "version": "3.10.12"
  },
  "orig_nbformat": 4
 },
 "nbformat": 4,
 "nbformat_minor": 2
}
